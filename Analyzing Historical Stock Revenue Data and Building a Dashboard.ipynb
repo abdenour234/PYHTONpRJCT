{
 "cells": [
  {
   "cell_type": "markdown",
   "id": "b51022b5",
   "metadata": {},
   "source": [
    "<h1>Extracting Tesla Stock Data Using yfinance</h1>"
   ]
  },
  {
   "cell_type": "code",
   "execution_count": 26,
   "id": "c3377137",
   "metadata": {},
   "outputs": [],
   "source": [
    "import yfinance as yf"
   ]
  },
  {
   "cell_type": "code",
   "execution_count": 27,
   "id": "874c5414",
   "metadata": {},
   "outputs": [
    {
     "name": "stdout",
     "output_type": "stream",
     "text": [
      "holla\n"
     ]
    }
   ],
   "source": [
    "print('holla')"
   ]
  },
  {
   "cell_type": "code",
   "execution_count": 28,
   "id": "1e341420",
   "metadata": {},
   "outputs": [],
   "source": [
    "Tesla=yf.Ticker('TSLA')"
   ]
  },
  {
   "cell_type": "code",
   "execution_count": 29,
   "id": "dd72c83a",
   "metadata": {},
   "outputs": [],
   "source": [
    "tesla_data=Tesla.history(period='max')"
   ]
  },
  {
   "cell_type": "code",
   "execution_count": 36,
   "id": "82c27864",
   "metadata": {},
   "outputs": [
    {
     "data": {
      "text/html": [
       "<div>\n",
       "<style scoped>\n",
       "    .dataframe tbody tr th:only-of-type {\n",
       "        vertical-align: middle;\n",
       "    }\n",
       "\n",
       "    .dataframe tbody tr th {\n",
       "        vertical-align: top;\n",
       "    }\n",
       "\n",
       "    .dataframe thead th {\n",
       "        text-align: right;\n",
       "    }\n",
       "</style>\n",
       "<table border=\"1\" class=\"dataframe\">\n",
       "  <thead>\n",
       "    <tr style=\"text-align: right;\">\n",
       "      <th></th>\n",
       "      <th>Date</th>\n",
       "      <th>Open</th>\n",
       "      <th>High</th>\n",
       "      <th>Low</th>\n",
       "      <th>Close</th>\n",
       "      <th>Volume</th>\n",
       "      <th>Dividends</th>\n",
       "      <th>Stock Splits</th>\n",
       "    </tr>\n",
       "  </thead>\n",
       "  <tbody>\n",
       "    <tr>\n",
       "      <th>0</th>\n",
       "      <td>2010-06-29 00:00:00-04:00</td>\n",
       "      <td>1.266667</td>\n",
       "      <td>1.666667</td>\n",
       "      <td>1.169333</td>\n",
       "      <td>1.592667</td>\n",
       "      <td>281494500</td>\n",
       "      <td>0.0</td>\n",
       "      <td>0.0</td>\n",
       "    </tr>\n",
       "    <tr>\n",
       "      <th>1</th>\n",
       "      <td>2010-06-30 00:00:00-04:00</td>\n",
       "      <td>1.719333</td>\n",
       "      <td>2.028000</td>\n",
       "      <td>1.553333</td>\n",
       "      <td>1.588667</td>\n",
       "      <td>257806500</td>\n",
       "      <td>0.0</td>\n",
       "      <td>0.0</td>\n",
       "    </tr>\n",
       "    <tr>\n",
       "      <th>2</th>\n",
       "      <td>2010-07-01 00:00:00-04:00</td>\n",
       "      <td>1.666667</td>\n",
       "      <td>1.728000</td>\n",
       "      <td>1.351333</td>\n",
       "      <td>1.464000</td>\n",
       "      <td>123282000</td>\n",
       "      <td>0.0</td>\n",
       "      <td>0.0</td>\n",
       "    </tr>\n",
       "    <tr>\n",
       "      <th>3</th>\n",
       "      <td>2010-07-02 00:00:00-04:00</td>\n",
       "      <td>1.533333</td>\n",
       "      <td>1.540000</td>\n",
       "      <td>1.247333</td>\n",
       "      <td>1.280000</td>\n",
       "      <td>77097000</td>\n",
       "      <td>0.0</td>\n",
       "      <td>0.0</td>\n",
       "    </tr>\n",
       "    <tr>\n",
       "      <th>4</th>\n",
       "      <td>2010-07-06 00:00:00-04:00</td>\n",
       "      <td>1.333333</td>\n",
       "      <td>1.333333</td>\n",
       "      <td>1.055333</td>\n",
       "      <td>1.074000</td>\n",
       "      <td>103003500</td>\n",
       "      <td>0.0</td>\n",
       "      <td>0.0</td>\n",
       "    </tr>\n",
       "  </tbody>\n",
       "</table>\n",
       "</div>"
      ],
      "text/plain": [
       "                       Date      Open      High       Low     Close  \\\n",
       "0 2010-06-29 00:00:00-04:00  1.266667  1.666667  1.169333  1.592667   \n",
       "1 2010-06-30 00:00:00-04:00  1.719333  2.028000  1.553333  1.588667   \n",
       "2 2010-07-01 00:00:00-04:00  1.666667  1.728000  1.351333  1.464000   \n",
       "3 2010-07-02 00:00:00-04:00  1.533333  1.540000  1.247333  1.280000   \n",
       "4 2010-07-06 00:00:00-04:00  1.333333  1.333333  1.055333  1.074000   \n",
       "\n",
       "      Volume  Dividends  Stock Splits  \n",
       "0  281494500        0.0           0.0  \n",
       "1  257806500        0.0           0.0  \n",
       "2  123282000        0.0           0.0  \n",
       "3   77097000        0.0           0.0  \n",
       "4  103003500        0.0           0.0  "
      ]
     },
     "execution_count": 36,
     "metadata": {},
     "output_type": "execute_result"
    }
   ],
   "source": [
    "tesla_data.reset_index(inplace=True)\n",
    "tesla_data.head()"
   ]
  },
  {
   "cell_type": "markdown",
   "id": "248e381c",
   "metadata": {},
   "source": [
    "<h1>Extracting Tesla Revenue Data Using Webscraping</h1>"
   ]
  },
  {
   "cell_type": "code",
   "execution_count": 37,
   "id": "9e7d81aa",
   "metadata": {},
   "outputs": [],
   "source": [
    "import requests\n",
    "from bs4 import BeautifulSoup"
   ]
  },
  {
   "cell_type": "code",
   "execution_count": 219,
   "id": "b3c83d6d",
   "metadata": {},
   "outputs": [],
   "source": [
    "url = 'https://en.wikipedia.org/wiki/Tesla,_Inc.#Finances'\n",
    "resp=requests.get(url)\n",
    "soup=BeautifulSoup(resp.text,'html.parser')"
   ]
  },
  {
   "cell_type": "code",
   "execution_count": 220,
   "id": "f260c742",
   "metadata": {},
   "outputs": [],
   "source": [
    "revenue_table = soup.find_all('table', class_='wikitable')[1]"
   ]
  },
  {
   "cell_type": "code",
   "execution_count": 221,
   "id": "e62f5398",
   "metadata": {},
   "outputs": [],
   "source": [
    "titles_dirt=revenue_table.find_all('th')"
   ]
  },
  {
   "cell_type": "code",
   "execution_count": 222,
   "id": "3827e26c",
   "metadata": {},
   "outputs": [],
   "source": [
    "titles=[title.text.strip() for title in titles_dirt]"
   ]
  },
  {
   "cell_type": "code",
   "execution_count": 223,
   "id": "985c674f",
   "metadata": {},
   "outputs": [
    {
     "data": {
      "text/plain": [
       "['Year',\n",
       " 'Revenue(US$ m)',\n",
       " 'Net income(US$ m)',\n",
       " 'Total assets(US$ m)',\n",
       " 'Employees',\n",
       " 'Sources']"
      ]
     },
     "execution_count": 223,
     "metadata": {},
     "output_type": "execute_result"
    }
   ],
   "source": [
    "titles"
   ]
  },
  {
   "cell_type": "code",
   "execution_count": 224,
   "id": "93e32a66",
   "metadata": {},
   "outputs": [
    {
     "data": {
      "text/html": [
       "<div>\n",
       "<style scoped>\n",
       "    .dataframe tbody tr th:only-of-type {\n",
       "        vertical-align: middle;\n",
       "    }\n",
       "\n",
       "    .dataframe tbody tr th {\n",
       "        vertical-align: top;\n",
       "    }\n",
       "\n",
       "    .dataframe thead th {\n",
       "        text-align: right;\n",
       "    }\n",
       "</style>\n",
       "<table border=\"1\" class=\"dataframe\">\n",
       "  <thead>\n",
       "    <tr style=\"text-align: right;\">\n",
       "      <th></th>\n",
       "      <th>Year</th>\n",
       "      <th>Revenue(US$ m)</th>\n",
       "      <th>Net income(US$ m)</th>\n",
       "      <th>Total assets(US$ m)</th>\n",
       "      <th>Employees</th>\n",
       "      <th>Sources</th>\n",
       "    </tr>\n",
       "  </thead>\n",
       "  <tbody>\n",
       "  </tbody>\n",
       "</table>\n",
       "</div>"
      ],
      "text/plain": [
       "Empty DataFrame\n",
       "Columns: [Year, Revenue(US$ m), Net income(US$ m), Total assets(US$ m), Employees, Sources]\n",
       "Index: []"
      ]
     },
     "execution_count": 224,
     "metadata": {},
     "output_type": "execute_result"
    }
   ],
   "source": [
    "data=pd.DataFrame(columns=titles)\n",
    "data"
   ]
  },
  {
   "cell_type": "code",
   "execution_count": 225,
   "id": "565d018d",
   "metadata": {},
   "outputs": [],
   "source": [
    "Columns_Data=revenue_table.find_all('tr')"
   ]
  },
  {
   "cell_type": "code",
   "execution_count": 226,
   "id": "95bada87",
   "metadata": {},
   "outputs": [],
   "source": [
    "for row in Columns_Data[1:]:\n",
    "    row_data=row.find_all('td')\n",
    "    idiv_data=[data.text.strip() for data in row_data]\n",
    "    lenght=len(data)\n",
    "    data.loc[lenght]=idiv_data"
   ]
  },
  {
   "cell_type": "code",
   "execution_count": 227,
   "id": "11d5dfcb",
   "metadata": {},
   "outputs": [
    {
     "data": {
      "text/html": [
       "<div>\n",
       "<style scoped>\n",
       "    .dataframe tbody tr th:only-of-type {\n",
       "        vertical-align: middle;\n",
       "    }\n",
       "\n",
       "    .dataframe tbody tr th {\n",
       "        vertical-align: top;\n",
       "    }\n",
       "\n",
       "    .dataframe thead th {\n",
       "        text-align: right;\n",
       "    }\n",
       "</style>\n",
       "<table border=\"1\" class=\"dataframe\">\n",
       "  <thead>\n",
       "    <tr style=\"text-align: right;\">\n",
       "      <th></th>\n",
       "      <th>Year</th>\n",
       "      <th>Revenue(US$ m)</th>\n",
       "      <th>Net income(US$ m)</th>\n",
       "      <th>Total assets(US$ m)</th>\n",
       "      <th>Employees</th>\n",
       "      <th>Sources</th>\n",
       "    </tr>\n",
       "  </thead>\n",
       "  <tbody>\n",
       "    <tr>\n",
       "      <th>0</th>\n",
       "      <td>2005</td>\n",
       "      <td>0</td>\n",
       "      <td>−12</td>\n",
       "      <td>8</td>\n",
       "      <td></td>\n",
       "      <td></td>\n",
       "    </tr>\n",
       "    <tr>\n",
       "      <th>1</th>\n",
       "      <td>2006</td>\n",
       "      <td>0</td>\n",
       "      <td>−30</td>\n",
       "      <td>44</td>\n",
       "      <td>70</td>\n",
       "      <td>[520][521]</td>\n",
       "    </tr>\n",
       "    <tr>\n",
       "      <th>2</th>\n",
       "      <td>2007</td>\n",
       "      <td>0.073</td>\n",
       "      <td>−78</td>\n",
       "      <td>34</td>\n",
       "      <td>268</td>\n",
       "      <td></td>\n",
       "    </tr>\n",
       "    <tr>\n",
       "      <th>3</th>\n",
       "      <td>2008</td>\n",
       "      <td>15</td>\n",
       "      <td>−83</td>\n",
       "      <td>52</td>\n",
       "      <td>252</td>\n",
       "      <td></td>\n",
       "    </tr>\n",
       "    <tr>\n",
       "      <th>4</th>\n",
       "      <td>2009</td>\n",
       "      <td>112</td>\n",
       "      <td>−56</td>\n",
       "      <td>130</td>\n",
       "      <td>514</td>\n",
       "      <td></td>\n",
       "    </tr>\n",
       "    <tr>\n",
       "      <th>5</th>\n",
       "      <td>2010</td>\n",
       "      <td>117</td>\n",
       "      <td>−154</td>\n",
       "      <td>386</td>\n",
       "      <td>899</td>\n",
       "      <td>[521]</td>\n",
       "    </tr>\n",
       "    <tr>\n",
       "      <th>6</th>\n",
       "      <td>2011</td>\n",
       "      <td>204</td>\n",
       "      <td>−254</td>\n",
       "      <td>713</td>\n",
       "      <td>1,417</td>\n",
       "      <td>[521]</td>\n",
       "    </tr>\n",
       "    <tr>\n",
       "      <th>7</th>\n",
       "      <td>2012</td>\n",
       "      <td>413</td>\n",
       "      <td>−396</td>\n",
       "      <td>1,114</td>\n",
       "      <td>2,914</td>\n",
       "      <td>[521]</td>\n",
       "    </tr>\n",
       "    <tr>\n",
       "      <th>8</th>\n",
       "      <td>2013</td>\n",
       "      <td>2,013</td>\n",
       "      <td>−74</td>\n",
       "      <td>2,417</td>\n",
       "      <td>5,859</td>\n",
       "      <td>[521]</td>\n",
       "    </tr>\n",
       "    <tr>\n",
       "      <th>9</th>\n",
       "      <td>2014</td>\n",
       "      <td>3,198</td>\n",
       "      <td>−294</td>\n",
       "      <td>5,831</td>\n",
       "      <td>10,161</td>\n",
       "      <td>[521]</td>\n",
       "    </tr>\n",
       "    <tr>\n",
       "      <th>10</th>\n",
       "      <td>2015</td>\n",
       "      <td>4,046</td>\n",
       "      <td>−889</td>\n",
       "      <td>8,068</td>\n",
       "      <td>13,058</td>\n",
       "      <td>[521]</td>\n",
       "    </tr>\n",
       "    <tr>\n",
       "      <th>11</th>\n",
       "      <td>2016</td>\n",
       "      <td>7,000</td>\n",
       "      <td>−675</td>\n",
       "      <td>22,664</td>\n",
       "      <td>17,782</td>\n",
       "      <td>[521]</td>\n",
       "    </tr>\n",
       "    <tr>\n",
       "      <th>12</th>\n",
       "      <td>2017</td>\n",
       "      <td>11,759</td>\n",
       "      <td>−1,962</td>\n",
       "      <td>28,655</td>\n",
       "      <td>37,543</td>\n",
       "      <td>[521]</td>\n",
       "    </tr>\n",
       "    <tr>\n",
       "      <th>13</th>\n",
       "      <td>2018</td>\n",
       "      <td>21,461</td>\n",
       "      <td>−976</td>\n",
       "      <td>29,740</td>\n",
       "      <td>48,817</td>\n",
       "      <td>[521]</td>\n",
       "    </tr>\n",
       "    <tr>\n",
       "      <th>14</th>\n",
       "      <td>2019</td>\n",
       "      <td>24,578</td>\n",
       "      <td>−862</td>\n",
       "      <td>34,309</td>\n",
       "      <td>48,016</td>\n",
       "      <td>[521]</td>\n",
       "    </tr>\n",
       "    <tr>\n",
       "      <th>15</th>\n",
       "      <td>2020</td>\n",
       "      <td>31,536</td>\n",
       "      <td>721</td>\n",
       "      <td>52,148</td>\n",
       "      <td>70,757</td>\n",
       "      <td>[521]</td>\n",
       "    </tr>\n",
       "    <tr>\n",
       "      <th>16</th>\n",
       "      <td>2021</td>\n",
       "      <td>53,823</td>\n",
       "      <td>5,519</td>\n",
       "      <td>62,131</td>\n",
       "      <td>99,290</td>\n",
       "      <td>[521]</td>\n",
       "    </tr>\n",
       "    <tr>\n",
       "      <th>17</th>\n",
       "      <td>2022</td>\n",
       "      <td>81,462</td>\n",
       "      <td>12,556</td>\n",
       "      <td>82,338</td>\n",
       "      <td>127,855</td>\n",
       "      <td>[521]</td>\n",
       "    </tr>\n",
       "    <tr>\n",
       "      <th>18</th>\n",
       "      <td>2023</td>\n",
       "      <td>96,773</td>\n",
       "      <td>14,997</td>\n",
       "      <td>106,618</td>\n",
       "      <td>140,473</td>\n",
       "      <td>[521]</td>\n",
       "    </tr>\n",
       "  </tbody>\n",
       "</table>\n",
       "</div>"
      ],
      "text/plain": [
       "    Year Revenue(US$ m) Net income(US$ m) Total assets(US$ m) Employees  \\\n",
       "0   2005              0               −12                   8             \n",
       "1   2006              0               −30                  44        70   \n",
       "2   2007          0.073               −78                  34       268   \n",
       "3   2008             15               −83                  52       252   \n",
       "4   2009            112               −56                 130       514   \n",
       "5   2010            117              −154                 386       899   \n",
       "6   2011            204              −254                 713     1,417   \n",
       "7   2012            413              −396               1,114     2,914   \n",
       "8   2013          2,013               −74               2,417     5,859   \n",
       "9   2014          3,198              −294               5,831    10,161   \n",
       "10  2015          4,046              −889               8,068    13,058   \n",
       "11  2016          7,000              −675              22,664    17,782   \n",
       "12  2017         11,759            −1,962              28,655    37,543   \n",
       "13  2018         21,461              −976              29,740    48,817   \n",
       "14  2019         24,578              −862              34,309    48,016   \n",
       "15  2020         31,536               721              52,148    70,757   \n",
       "16  2021         53,823             5,519              62,131    99,290   \n",
       "17  2022         81,462            12,556              82,338   127,855   \n",
       "18  2023         96,773            14,997             106,618   140,473   \n",
       "\n",
       "       Sources  \n",
       "0               \n",
       "1   [520][521]  \n",
       "2               \n",
       "3               \n",
       "4               \n",
       "5        [521]  \n",
       "6        [521]  \n",
       "7        [521]  \n",
       "8        [521]  \n",
       "9        [521]  \n",
       "10       [521]  \n",
       "11       [521]  \n",
       "12       [521]  \n",
       "13       [521]  \n",
       "14       [521]  \n",
       "15       [521]  \n",
       "16       [521]  \n",
       "17       [521]  \n",
       "18       [521]  "
      ]
     },
     "execution_count": 227,
     "metadata": {},
     "output_type": "execute_result"
    }
   ],
   "source": [
    "\n",
    "data"
   ]
  },
  {
   "cell_type": "code",
   "execution_count": 194,
   "id": "60f7dd08",
   "metadata": {},
   "outputs": [
    {
     "data": {
      "text/html": [
       "<div>\n",
       "<style scoped>\n",
       "    .dataframe tbody tr th:only-of-type {\n",
       "        vertical-align: middle;\n",
       "    }\n",
       "\n",
       "    .dataframe tbody tr th {\n",
       "        vertical-align: top;\n",
       "    }\n",
       "\n",
       "    .dataframe thead th {\n",
       "        text-align: right;\n",
       "    }\n",
       "</style>\n",
       "<table border=\"1\" class=\"dataframe\">\n",
       "  <thead>\n",
       "    <tr style=\"text-align: right;\">\n",
       "      <th></th>\n",
       "      <th>Year</th>\n",
       "      <th>Revenue(US$ m)</th>\n",
       "      <th>Net income(US$ m)</th>\n",
       "      <th>Total assets(US$ m)</th>\n",
       "      <th>Employees</th>\n",
       "    </tr>\n",
       "  </thead>\n",
       "  <tbody>\n",
       "    <tr>\n",
       "      <th>0</th>\n",
       "      <td>2005</td>\n",
       "      <td>0</td>\n",
       "      <td>−12</td>\n",
       "      <td>8</td>\n",
       "      <td></td>\n",
       "    </tr>\n",
       "    <tr>\n",
       "      <th>1</th>\n",
       "      <td>2006</td>\n",
       "      <td>0</td>\n",
       "      <td>−30</td>\n",
       "      <td>44</td>\n",
       "      <td>70</td>\n",
       "    </tr>\n",
       "    <tr>\n",
       "      <th>2</th>\n",
       "      <td>2007</td>\n",
       "      <td>0.073</td>\n",
       "      <td>−78</td>\n",
       "      <td>34</td>\n",
       "      <td>268</td>\n",
       "    </tr>\n",
       "    <tr>\n",
       "      <th>3</th>\n",
       "      <td>2008</td>\n",
       "      <td>15</td>\n",
       "      <td>−83</td>\n",
       "      <td>52</td>\n",
       "      <td>252</td>\n",
       "    </tr>\n",
       "    <tr>\n",
       "      <th>4</th>\n",
       "      <td>2009</td>\n",
       "      <td>112</td>\n",
       "      <td>−56</td>\n",
       "      <td>130</td>\n",
       "      <td>514</td>\n",
       "    </tr>\n",
       "    <tr>\n",
       "      <th>5</th>\n",
       "      <td>2010</td>\n",
       "      <td>117</td>\n",
       "      <td>−154</td>\n",
       "      <td>386</td>\n",
       "      <td>899</td>\n",
       "    </tr>\n",
       "    <tr>\n",
       "      <th>6</th>\n",
       "      <td>2011</td>\n",
       "      <td>204</td>\n",
       "      <td>−254</td>\n",
       "      <td>713</td>\n",
       "      <td>1,417</td>\n",
       "    </tr>\n",
       "    <tr>\n",
       "      <th>7</th>\n",
       "      <td>2012</td>\n",
       "      <td>413</td>\n",
       "      <td>−396</td>\n",
       "      <td>1,114</td>\n",
       "      <td>2,914</td>\n",
       "    </tr>\n",
       "    <tr>\n",
       "      <th>8</th>\n",
       "      <td>2013</td>\n",
       "      <td>2,013</td>\n",
       "      <td>−74</td>\n",
       "      <td>2,417</td>\n",
       "      <td>5,859</td>\n",
       "    </tr>\n",
       "    <tr>\n",
       "      <th>9</th>\n",
       "      <td>2014</td>\n",
       "      <td>3,198</td>\n",
       "      <td>−294</td>\n",
       "      <td>5,831</td>\n",
       "      <td>10,161</td>\n",
       "    </tr>\n",
       "    <tr>\n",
       "      <th>10</th>\n",
       "      <td>2015</td>\n",
       "      <td>4,046</td>\n",
       "      <td>−889</td>\n",
       "      <td>8,068</td>\n",
       "      <td>13,058</td>\n",
       "    </tr>\n",
       "    <tr>\n",
       "      <th>11</th>\n",
       "      <td>2016</td>\n",
       "      <td>7,000</td>\n",
       "      <td>−675</td>\n",
       "      <td>22,664</td>\n",
       "      <td>17,782</td>\n",
       "    </tr>\n",
       "    <tr>\n",
       "      <th>12</th>\n",
       "      <td>2017</td>\n",
       "      <td>11,759</td>\n",
       "      <td>−1,962</td>\n",
       "      <td>28,655</td>\n",
       "      <td>37,543</td>\n",
       "    </tr>\n",
       "    <tr>\n",
       "      <th>13</th>\n",
       "      <td>2018</td>\n",
       "      <td>21,461</td>\n",
       "      <td>−976</td>\n",
       "      <td>29,740</td>\n",
       "      <td>48,817</td>\n",
       "    </tr>\n",
       "    <tr>\n",
       "      <th>14</th>\n",
       "      <td>2019</td>\n",
       "      <td>24,578</td>\n",
       "      <td>−862</td>\n",
       "      <td>34,309</td>\n",
       "      <td>48,016</td>\n",
       "    </tr>\n",
       "    <tr>\n",
       "      <th>15</th>\n",
       "      <td>2020</td>\n",
       "      <td>31,536</td>\n",
       "      <td>721</td>\n",
       "      <td>52,148</td>\n",
       "      <td>70,757</td>\n",
       "    </tr>\n",
       "    <tr>\n",
       "      <th>16</th>\n",
       "      <td>2021</td>\n",
       "      <td>53,823</td>\n",
       "      <td>5,519</td>\n",
       "      <td>62,131</td>\n",
       "      <td>99,290</td>\n",
       "    </tr>\n",
       "    <tr>\n",
       "      <th>17</th>\n",
       "      <td>2022</td>\n",
       "      <td>81,462</td>\n",
       "      <td>12,556</td>\n",
       "      <td>82,338</td>\n",
       "      <td>127,855</td>\n",
       "    </tr>\n",
       "    <tr>\n",
       "      <th>18</th>\n",
       "      <td>2023</td>\n",
       "      <td>96,773</td>\n",
       "      <td>14,997</td>\n",
       "      <td>106,618</td>\n",
       "      <td>140,473</td>\n",
       "    </tr>\n",
       "  </tbody>\n",
       "</table>\n",
       "</div>"
      ],
      "text/plain": [
       "    Year Revenue(US$ m) Net income(US$ m) Total assets(US$ m) Employees\n",
       "0   2005              0               −12                   8          \n",
       "1   2006              0               −30                  44        70\n",
       "2   2007          0.073               −78                  34       268\n",
       "3   2008             15               −83                  52       252\n",
       "4   2009            112               −56                 130       514\n",
       "5   2010            117              −154                 386       899\n",
       "6   2011            204              −254                 713     1,417\n",
       "7   2012            413              −396               1,114     2,914\n",
       "8   2013          2,013               −74               2,417     5,859\n",
       "9   2014          3,198              −294               5,831    10,161\n",
       "10  2015          4,046              −889               8,068    13,058\n",
       "11  2016          7,000              −675              22,664    17,782\n",
       "12  2017         11,759            −1,962              28,655    37,543\n",
       "13  2018         21,461              −976              29,740    48,817\n",
       "14  2019         24,578              −862              34,309    48,016\n",
       "15  2020         31,536               721              52,148    70,757\n",
       "16  2021         53,823             5,519              62,131    99,290\n",
       "17  2022         81,462            12,556              82,338   127,855\n",
       "18  2023         96,773            14,997             106,618   140,473"
      ]
     },
     "execution_count": 194,
     "metadata": {},
     "output_type": "execute_result"
    }
   ],
   "source": [
    "data.drop('Sources',axis=1)"
   ]
  },
  {
   "cell_type": "markdown",
   "id": "5d02af83",
   "metadata": {},
   "source": [
    "<h1>Extracting GameStop Stock Data Using yfinance</h1>"
   ]
  },
  {
   "cell_type": "code",
   "execution_count": 108,
   "id": "bf328a3e",
   "metadata": {},
   "outputs": [
    {
     "data": {
      "text/html": [
       "<div>\n",
       "<style scoped>\n",
       "    .dataframe tbody tr th:only-of-type {\n",
       "        vertical-align: middle;\n",
       "    }\n",
       "\n",
       "    .dataframe tbody tr th {\n",
       "        vertical-align: top;\n",
       "    }\n",
       "\n",
       "    .dataframe thead th {\n",
       "        text-align: right;\n",
       "    }\n",
       "</style>\n",
       "<table border=\"1\" class=\"dataframe\">\n",
       "  <thead>\n",
       "    <tr style=\"text-align: right;\">\n",
       "      <th></th>\n",
       "      <th>Date</th>\n",
       "      <th>Open</th>\n",
       "      <th>High</th>\n",
       "      <th>Low</th>\n",
       "      <th>Close</th>\n",
       "      <th>Volume</th>\n",
       "      <th>Dividends</th>\n",
       "      <th>Stock Splits</th>\n",
       "    </tr>\n",
       "  </thead>\n",
       "  <tbody>\n",
       "    <tr>\n",
       "      <th>0</th>\n",
       "      <td>2002-02-13 00:00:00-05:00</td>\n",
       "      <td>1.620128</td>\n",
       "      <td>1.693350</td>\n",
       "      <td>1.603296</td>\n",
       "      <td>1.691667</td>\n",
       "      <td>76216000</td>\n",
       "      <td>0.0</td>\n",
       "      <td>0.0</td>\n",
       "    </tr>\n",
       "    <tr>\n",
       "      <th>1</th>\n",
       "      <td>2002-02-14 00:00:00-05:00</td>\n",
       "      <td>1.712707</td>\n",
       "      <td>1.716074</td>\n",
       "      <td>1.670626</td>\n",
       "      <td>1.683250</td>\n",
       "      <td>11021600</td>\n",
       "      <td>0.0</td>\n",
       "      <td>0.0</td>\n",
       "    </tr>\n",
       "    <tr>\n",
       "      <th>2</th>\n",
       "      <td>2002-02-15 00:00:00-05:00</td>\n",
       "      <td>1.683250</td>\n",
       "      <td>1.687458</td>\n",
       "      <td>1.658001</td>\n",
       "      <td>1.674834</td>\n",
       "      <td>8389600</td>\n",
       "      <td>0.0</td>\n",
       "      <td>0.0</td>\n",
       "    </tr>\n",
       "    <tr>\n",
       "      <th>3</th>\n",
       "      <td>2002-02-19 00:00:00-05:00</td>\n",
       "      <td>1.666418</td>\n",
       "      <td>1.666418</td>\n",
       "      <td>1.578047</td>\n",
       "      <td>1.607504</td>\n",
       "      <td>7410400</td>\n",
       "      <td>0.0</td>\n",
       "      <td>0.0</td>\n",
       "    </tr>\n",
       "    <tr>\n",
       "      <th>4</th>\n",
       "      <td>2002-02-20 00:00:00-05:00</td>\n",
       "      <td>1.615920</td>\n",
       "      <td>1.662209</td>\n",
       "      <td>1.603295</td>\n",
       "      <td>1.662209</td>\n",
       "      <td>6892800</td>\n",
       "      <td>0.0</td>\n",
       "      <td>0.0</td>\n",
       "    </tr>\n",
       "  </tbody>\n",
       "</table>\n",
       "</div>"
      ],
      "text/plain": [
       "                       Date      Open      High       Low     Close    Volume  \\\n",
       "0 2002-02-13 00:00:00-05:00  1.620128  1.693350  1.603296  1.691667  76216000   \n",
       "1 2002-02-14 00:00:00-05:00  1.712707  1.716074  1.670626  1.683250  11021600   \n",
       "2 2002-02-15 00:00:00-05:00  1.683250  1.687458  1.658001  1.674834   8389600   \n",
       "3 2002-02-19 00:00:00-05:00  1.666418  1.666418  1.578047  1.607504   7410400   \n",
       "4 2002-02-20 00:00:00-05:00  1.615920  1.662209  1.603295  1.662209   6892800   \n",
       "\n",
       "   Dividends  Stock Splits  \n",
       "0        0.0           0.0  \n",
       "1        0.0           0.0  \n",
       "2        0.0           0.0  \n",
       "3        0.0           0.0  \n",
       "4        0.0           0.0  "
      ]
     },
     "execution_count": 108,
     "metadata": {},
     "output_type": "execute_result"
    }
   ],
   "source": [
    "import yfinance as yf\n",
    "\n",
    "# Define the ticker symbol for GameStop\n",
    "gamestop_ticker = \"GME\"\n",
    "\n",
    "# Extract GameStop stock data\n",
    "gamestop = yf.Ticker(gamestop_ticker)\n",
    "gamestop_data=gamestop.history(period='max')\n",
    "gamestop_data.reset_index(inplace=True)\n",
    "\n",
    "# Display the first few rows of GameStop stock data\n",
    "gamestop_data.head()\n"
   ]
  },
  {
   "cell_type": "markdown",
   "id": "c3389e50",
   "metadata": {},
   "source": [
    "<h1>Extracting GameStop Revenue Data Using Webscraping</h1>"
   ]
  },
  {
   "cell_type": "code",
   "execution_count": 152,
   "id": "461ac2eb",
   "metadata": {},
   "outputs": [],
   "source": [
    "url = 'https://companiesmarketcap.com/gamestop/revenue'\n",
    "resp=requests.get(url)\n",
    "sp=BeautifulSoup(resp.text,'html')"
   ]
  },
  {
   "cell_type": "code",
   "execution_count": 162,
   "id": "304f5e8e",
   "metadata": {},
   "outputs": [],
   "source": [
    "data_table=sp.find_all('table')\n",
    "data_dirty=data_table[0]"
   ]
  },
  {
   "cell_type": "code",
   "execution_count": 170,
   "id": "a122e7c6",
   "metadata": {},
   "outputs": [
    {
     "data": {
      "text/plain": [
       "[<th>Year</th>, <th>Revenue</th>, <th>Change</th>]"
      ]
     },
     "execution_count": 170,
     "metadata": {},
     "output_type": "execute_result"
    }
   ],
   "source": [
    "titles_dirty=data_dirty.find_all('th')\n",
    "titles_dirty"
   ]
  },
  {
   "cell_type": "code",
   "execution_count": 174,
   "id": "aed1d3e9",
   "metadata": {},
   "outputs": [
    {
     "data": {
      "text/plain": [
       "['Year', 'Revenue', 'Change']"
      ]
     },
     "execution_count": 174,
     "metadata": {},
     "output_type": "execute_result"
    }
   ],
   "source": [
    "titles=[title.text.strip() for title in titles_dirty]\n",
    "titles"
   ]
  },
  {
   "cell_type": "code",
   "execution_count": 175,
   "id": "e1c455f3",
   "metadata": {},
   "outputs": [
    {
     "data": {
      "text/html": [
       "<div>\n",
       "<style scoped>\n",
       "    .dataframe tbody tr th:only-of-type {\n",
       "        vertical-align: middle;\n",
       "    }\n",
       "\n",
       "    .dataframe tbody tr th {\n",
       "        vertical-align: top;\n",
       "    }\n",
       "\n",
       "    .dataframe thead th {\n",
       "        text-align: right;\n",
       "    }\n",
       "</style>\n",
       "<table border=\"1\" class=\"dataframe\">\n",
       "  <thead>\n",
       "    <tr style=\"text-align: right;\">\n",
       "      <th></th>\n",
       "      <th>Year</th>\n",
       "      <th>Revenue</th>\n",
       "      <th>Change</th>\n",
       "    </tr>\n",
       "  </thead>\n",
       "  <tbody>\n",
       "  </tbody>\n",
       "</table>\n",
       "</div>"
      ],
      "text/plain": [
       "Empty DataFrame\n",
       "Columns: [Year, Revenue, Change]\n",
       "Index: []"
      ]
     },
     "execution_count": 175,
     "metadata": {},
     "output_type": "execute_result"
    }
   ],
   "source": [
    "df=pd.DataFrame(columns=titles)\n",
    "df"
   ]
  },
  {
   "cell_type": "code",
   "execution_count": 177,
   "id": "05306217",
   "metadata": {},
   "outputs": [],
   "source": [
    "columns_data=data_dirty.find_all('tr')\n",
    "columns_data=columns_data[1:]"
   ]
  },
  {
   "cell_type": "code",
   "execution_count": 263,
   "id": "24e1fa45",
   "metadata": {},
   "outputs": [
    {
     "data": {
      "text/html": [
       "<div>\n",
       "<style scoped>\n",
       "    .dataframe tbody tr th:only-of-type {\n",
       "        vertical-align: middle;\n",
       "    }\n",
       "\n",
       "    .dataframe tbody tr th {\n",
       "        vertical-align: top;\n",
       "    }\n",
       "\n",
       "    .dataframe thead th {\n",
       "        text-align: right;\n",
       "    }\n",
       "</style>\n",
       "<table border=\"1\" class=\"dataframe\">\n",
       "  <thead>\n",
       "    <tr style=\"text-align: right;\">\n",
       "      <th></th>\n",
       "      <th>Year</th>\n",
       "      <th>Revenue</th>\n",
       "      <th>Change</th>\n",
       "    </tr>\n",
       "  </thead>\n",
       "  <tbody>\n",
       "    <tr>\n",
       "      <th>131</th>\n",
       "      <td>2002</td>\n",
       "      <td>$1.34 B</td>\n",
       "      <td></td>\n",
       "    </tr>\n",
       "    <tr>\n",
       "      <th>130</th>\n",
       "      <td>2003</td>\n",
       "      <td>$1.47 B</td>\n",
       "      <td>9.45%</td>\n",
       "    </tr>\n",
       "    <tr>\n",
       "      <th>129</th>\n",
       "      <td>2004</td>\n",
       "      <td>$1.75 B</td>\n",
       "      <td>19.38%</td>\n",
       "    </tr>\n",
       "    <tr>\n",
       "      <th>128</th>\n",
       "      <td>2005</td>\n",
       "      <td>$2.13 B</td>\n",
       "      <td>21.27%</td>\n",
       "    </tr>\n",
       "    <tr>\n",
       "      <th>127</th>\n",
       "      <td>2006</td>\n",
       "      <td>$4.68 B</td>\n",
       "      <td>119.43%</td>\n",
       "    </tr>\n",
       "    <tr>\n",
       "      <th>...</th>\n",
       "      <td>...</td>\n",
       "      <td>...</td>\n",
       "      <td>...</td>\n",
       "    </tr>\n",
       "    <tr>\n",
       "      <th>105</th>\n",
       "      <td>2006</td>\n",
       "      <td>$4.68 B</td>\n",
       "      <td>119.43%</td>\n",
       "    </tr>\n",
       "    <tr>\n",
       "      <th>106</th>\n",
       "      <td>2005</td>\n",
       "      <td>$2.13 B</td>\n",
       "      <td>21.27%</td>\n",
       "    </tr>\n",
       "    <tr>\n",
       "      <th>107</th>\n",
       "      <td>2004</td>\n",
       "      <td>$1.75 B</td>\n",
       "      <td>19.38%</td>\n",
       "    </tr>\n",
       "    <tr>\n",
       "      <th>108</th>\n",
       "      <td>2003</td>\n",
       "      <td>$1.47 B</td>\n",
       "      <td>9.45%</td>\n",
       "    </tr>\n",
       "    <tr>\n",
       "      <th>109</th>\n",
       "      <td>2002</td>\n",
       "      <td>$1.34 B</td>\n",
       "      <td></td>\n",
       "    </tr>\n",
       "  </tbody>\n",
       "</table>\n",
       "<p>132 rows × 3 columns</p>\n",
       "</div>"
      ],
      "text/plain": [
       "     Year  Revenue   Change\n",
       "131  2002  $1.34 B         \n",
       "130  2003  $1.47 B    9.45%\n",
       "129  2004  $1.75 B   19.38%\n",
       "128  2005  $2.13 B   21.27%\n",
       "127  2006  $4.68 B  119.43%\n",
       "..    ...      ...      ...\n",
       "105  2006  $4.68 B  119.43%\n",
       "106  2005  $2.13 B   21.27%\n",
       "107  2004  $1.75 B   19.38%\n",
       "108  2003  $1.47 B    9.45%\n",
       "109  2002  $1.34 B         \n",
       "\n",
       "[132 rows x 3 columns]"
      ]
     },
     "execution_count": 263,
     "metadata": {},
     "output_type": "execute_result"
    }
   ],
   "source": [
    "for row in columns_data:\n",
    "    row_data=row.find_all('td')\n",
    "    indiv_row=[datax.text.strip() for datax in row_data]\n",
    "    lenght=len(df)\n",
    "    df.loc[lenght]=indiv_row\n",
    "df=df.iloc[::-1]\n",
    "df"
   ]
  },
  {
   "cell_type": "markdown",
   "id": "ccc0b953",
   "metadata": {},
   "source": [
    "<h1>Tesla Stock and Revenue Dashboard</h1>"
   ]
  },
  {
   "cell_type": "code",
   "execution_count": 179,
   "id": "393b5dcc",
   "metadata": {},
   "outputs": [],
   "source": [
    "import matplotlib.pyplot as plt"
   ]
  },
  {
   "cell_type": "code",
   "execution_count": 183,
   "id": "6f2a106d",
   "metadata": {},
   "outputs": [
    {
     "data": {
      "text/plain": [
       "<Axes: title={'center': 'Tesla Stoke evolution'}, xlabel='Date'>"
      ]
     },
     "execution_count": 183,
     "metadata": {},
     "output_type": "execute_result"
    },
    {
     "data": {
      "image/png": "[encoded data removed]",
      "text/plain": [
       "<Figure size 640x480 with 1 Axes>"
      ]
     },
     "metadata": {},
     "output_type": "display_data"
    }
   ],
   "source": [
    "\n",
    "tesla_data.plot(x='Date',y='Volume',title='Tesla Stoke evolution')\n"
   ]
  },
  {
   "cell_type": "code",
   "execution_count": 233,
   "id": "0b96399f",
   "metadata": {},
   "outputs": [
    {
     "data": {
      "text/plain": [
       "[<matplotlib.lines.Line2D at 0x228a7c5ff90>]"
      ]
     },
     "execution_count": 233,
     "metadata": {},
     "output_type": "execute_result"
    },
    {
     "data": {
      "image/png": "[encoded data removed]",
      "text/plain": [
       "<Figure size 640x480 with 1 Axes>"
      ]
     },
     "metadata": {},
     "output_type": "display_data"
    }
   ],
   "source": [
    "X=data['Year'][0:8]\n",
    "Y=data['Revenue(US$ m)'][0:8]\n",
    "plt.figure()\n",
    "plt.title('Tesla Reveune evolution')\n",
    "plt.xlabel(\"Year\")\n",
    "plt.ylabel(\"Revenue\")\n",
    "plt.plot(X,Y)"
   ]
  },
  {
   "cell_type": "markdown",
   "id": "29386a0d",
   "metadata": {},
   "source": [
    "<h1>GameStop Stock and Revenue Dashboard</h1>"
   ]
  },
  {
   "cell_type": "code",
   "execution_count": 237,
   "id": "a969772f",
   "metadata": {},
   "outputs": [
    {
     "data": {
      "text/plain": [
       "<Axes: title={'center': 'gamestop Stock evolution'}, xlabel='Date'>"
      ]
     },
     "execution_count": 237,
     "metadata": {},
     "output_type": "execute_result"
    },
    {
     "data": {
      "image/png": "[encoded data removed]",
      "text/plain": [
       "<Figure size 640x480 with 1 Axes>"
      ]
     },
     "metadata": {},
     "output_type": "display_data"
    }
   ],
   "source": [
    "gamestop_data.plot(x='Date',y='Volume',title='gamestop Stock evolution')"
   ]
  },
  {
   "cell_type": "code",
   "execution_count": 259,
   "id": "82b0faba",
   "metadata": {},
   "outputs": [],
   "source": [
    "X=df['Year'][1:22]\n",
    "Y=[R.replace('B','').replace('$','').strip() for R in df['Revenue']]\n",
    "Y=Y[1:22]"
   ]
  },
  {
   "cell_type": "code",
   "execution_count": 260,
   "id": "415d1226",
   "metadata": {},
   "outputs": [
    {
     "data": {
      "text/plain": [
       "[<matplotlib.lines.Line2D at 0x228a0d1fb10>]"
      ]
     },
     "execution_count": 260,
     "metadata": {},
     "output_type": "execute_result"
    },
    {
     "data": {
      "image/png": "[encoded data removed]",
      "text/plain": [
       "<Figure size 640x480 with 1 Axes>"
      ]
     },
     "metadata": {},
     "output_type": "display_data"
    }
   ],
   "source": [
    "plt.figure()\n",
    "plt.title('Gamestop Reveune evolution')\n",
    "plt.xlabel(\"Year\")\n",
    "plt.ylabel(\"Revenue\")\n",
    "plt.plot(X,Y)"
   ]
  },
  {
   "cell_type": "code",
   "execution_count": null,
   "id": "ef552ed1",
   "metadata": {},
   "outputs": [],
   "source": []
  }
 ],
 "metadata": {
  "kernelspec": {
   "display_name": "Python 3 (ipykernel)",
   "language": "python",
   "name": "python3"
  },
  "language_info": {
   "codemirror_mode": {
    "name": "ipython",
    "version": 3
   },
   "file_extension": ".py",
   "mimetype": "text/x-python",
   "name": "python",
   "nbconvert_exporter": "python",
   "pygments_lexer": "ipython3",
   "version": "3.11.5"
  }
 },
 "nbformat": 4,
 "nbformat_minor": 5
}
